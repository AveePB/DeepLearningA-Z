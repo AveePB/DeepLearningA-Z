{
 "cells": [
  {
   "cell_type": "code",
   "id": "initial_id",
   "metadata": {
    "collapsed": true,
    "ExecuteTime": {
     "end_time": "2024-10-13T07:07:03.798764Z",
     "start_time": "2024-10-13T07:06:58.893665Z"
    }
   },
   "source": [
    "from random import random\n",
    "\n",
    "import torch\n",
    "import pandas as pd\n",
    "import numpy as np\n",
    "import matplotlib.pyplot as plt\n",
    "print(torch.__version__)"
   ],
   "outputs": [
    {
     "name": "stdout",
     "output_type": "stream",
     "text": [
      "2.4.1+cpu\n"
     ]
    }
   ],
   "execution_count": 2
  },
  {
   "metadata": {},
   "cell_type": "markdown",
   "source": [
    "# Introduction to Tensors\n",
    "Tensors are the fundamental building blocks of ML. Their job is to represent data in a numerical way.\n",
    "## Creating tensors"
   ],
   "id": "10dcb04f3a8ff20f"
  },
  {
   "metadata": {
    "ExecuteTime": {
     "end_time": "2024-10-13T07:07:03.868347Z",
     "start_time": "2024-10-13T07:07:03.834365Z"
    }
   },
   "cell_type": "code",
   "source": [
    "# Scalar\n",
    "scalar = torch.scalar_tensor(7, dtype=torch.int)\n",
    "scalar"
   ],
   "id": "482f520a5a2ac812",
   "outputs": [
    {
     "data": {
      "text/plain": [
       "tensor(7, dtype=torch.int32)"
      ]
     },
     "execution_count": 3,
     "metadata": {},
     "output_type": "execute_result"
    }
   ],
   "execution_count": 3
  },
  {
   "metadata": {
    "ExecuteTime": {
     "end_time": "2024-10-13T07:07:03.948035Z",
     "start_time": "2024-10-13T07:07:03.931770Z"
    }
   },
   "cell_type": "code",
   "source": "scalar.ndim",
   "id": "4884571f704c38dd",
   "outputs": [
    {
     "data": {
      "text/plain": [
       "0"
      ]
     },
     "execution_count": 4,
     "metadata": {},
     "output_type": "execute_result"
    }
   ],
   "execution_count": 4
  },
  {
   "metadata": {
    "ExecuteTime": {
     "end_time": "2024-10-13T07:07:03.992927Z",
     "start_time": "2024-10-13T07:07:03.979677Z"
    }
   },
   "cell_type": "code",
   "source": "scalar.item()",
   "id": "b9cb3d8a1e7b0db3",
   "outputs": [
    {
     "data": {
      "text/plain": [
       "7"
      ]
     },
     "execution_count": 5,
     "metadata": {},
     "output_type": "execute_result"
    }
   ],
   "execution_count": 5
  },
  {
   "metadata": {
    "ExecuteTime": {
     "end_time": "2024-10-13T07:07:04.046298Z",
     "start_time": "2024-10-13T07:07:04.031358Z"
    }
   },
   "cell_type": "code",
   "source": [
    "# Vector\n",
    "vector = torch.tensor([1, 2, 3])\n",
    "vector"
   ],
   "id": "8ea60b951f098d51",
   "outputs": [
    {
     "data": {
      "text/plain": [
       "tensor([1, 2, 3])"
      ]
     },
     "execution_count": 6,
     "metadata": {},
     "output_type": "execute_result"
    }
   ],
   "execution_count": 6
  },
  {
   "metadata": {
    "ExecuteTime": {
     "end_time": "2024-10-13T07:07:04.125897Z",
     "start_time": "2024-10-13T07:07:04.112757Z"
    }
   },
   "cell_type": "code",
   "source": "vector.ndim",
   "id": "478720093d428dc2",
   "outputs": [
    {
     "data": {
      "text/plain": [
       "1"
      ]
     },
     "execution_count": 7,
     "metadata": {},
     "output_type": "execute_result"
    }
   ],
   "execution_count": 7
  },
  {
   "metadata": {
    "ExecuteTime": {
     "end_time": "2024-10-13T07:07:04.193805Z",
     "start_time": "2024-10-13T07:07:04.181775Z"
    }
   },
   "cell_type": "code",
   "source": "vector.shape",
   "id": "d627a5ae7e1bb591",
   "outputs": [
    {
     "data": {
      "text/plain": [
       "torch.Size([3])"
      ]
     },
     "execution_count": 8,
     "metadata": {},
     "output_type": "execute_result"
    }
   ],
   "execution_count": 8
  },
  {
   "metadata": {
    "ExecuteTime": {
     "end_time": "2024-10-13T07:07:04.252424Z",
     "start_time": "2024-10-13T07:07:04.239162Z"
    }
   },
   "cell_type": "code",
   "source": [
    "# MATRIX\n",
    "MATRIX = torch.tensor([[1, 2], [3, 4]])\n",
    "MATRIX"
   ],
   "id": "cc243d154d400d48",
   "outputs": [
    {
     "data": {
      "text/plain": [
       "tensor([[1, 2],\n",
       "        [3, 4]])"
      ]
     },
     "execution_count": 9,
     "metadata": {},
     "output_type": "execute_result"
    }
   ],
   "execution_count": 9
  },
  {
   "metadata": {
    "ExecuteTime": {
     "end_time": "2024-10-13T07:07:04.306535Z",
     "start_time": "2024-10-13T07:07:04.294905Z"
    }
   },
   "cell_type": "code",
   "source": "MATRIX.ndim",
   "id": "cd154968250fbb44",
   "outputs": [
    {
     "data": {
      "text/plain": [
       "2"
      ]
     },
     "execution_count": 10,
     "metadata": {},
     "output_type": "execute_result"
    }
   ],
   "execution_count": 10
  },
  {
   "metadata": {
    "ExecuteTime": {
     "end_time": "2024-10-13T07:07:04.383348Z",
     "start_time": "2024-10-13T07:07:04.376643Z"
    }
   },
   "cell_type": "code",
   "source": "MATRIX.shape",
   "id": "4dde59e0c2919af6",
   "outputs": [
    {
     "data": {
      "text/plain": [
       "torch.Size([2, 2])"
      ]
     },
     "execution_count": 11,
     "metadata": {},
     "output_type": "execute_result"
    }
   ],
   "execution_count": 11
  },
  {
   "metadata": {
    "ExecuteTime": {
     "end_time": "2024-10-13T07:07:04.403739Z",
     "start_time": "2024-10-13T07:07:04.393705Z"
    }
   },
   "cell_type": "code",
   "source": [
    "# TENSOR\n",
    "TENSOR = torch.tensor([[[1, 2], \n",
    "                        [3, 4], \n",
    "                        [5, 6]]])\n",
    "TENSOR"
   ],
   "id": "42b2b4fa5111da62",
   "outputs": [
    {
     "data": {
      "text/plain": [
       "tensor([[[1, 2],\n",
       "         [3, 4],\n",
       "         [5, 6]]])"
      ]
     },
     "execution_count": 12,
     "metadata": {},
     "output_type": "execute_result"
    }
   ],
   "execution_count": 12
  },
  {
   "metadata": {
    "ExecuteTime": {
     "end_time": "2024-10-13T07:07:06.221812Z",
     "start_time": "2024-10-13T07:07:06.202219Z"
    }
   },
   "cell_type": "code",
   "source": "TENSOR.ndim",
   "id": "57ca534bd6843224",
   "outputs": [
    {
     "data": {
      "text/plain": [
       "3"
      ]
     },
     "execution_count": 13,
     "metadata": {},
     "output_type": "execute_result"
    }
   ],
   "execution_count": 13
  },
  {
   "metadata": {
    "ExecuteTime": {
     "end_time": "2024-10-13T07:07:06.354606Z",
     "start_time": "2024-10-13T07:07:06.337304Z"
    }
   },
   "cell_type": "code",
   "source": "TENSOR.shape",
   "id": "82d5b17f5154222a",
   "outputs": [
    {
     "data": {
      "text/plain": [
       "torch.Size([1, 3, 2])"
      ]
     },
     "execution_count": 14,
     "metadata": {},
     "output_type": "execute_result"
    }
   ],
   "execution_count": 14
  },
  {
   "metadata": {},
   "cell_type": "markdown",
   "source": "### Exercises",
   "id": "e76711cc53eadcd7"
  },
  {
   "metadata": {
    "ExecuteTime": {
     "end_time": "2024-10-13T07:07:06.418595Z",
     "start_time": "2024-10-13T07:07:06.401936Z"
    }
   },
   "cell_type": "code",
   "source": [
    "M1 = torch.tensor([[[1,2,3],[3,12,3]], [[1,2,4],[1,5,2]]])\n",
    "M1"
   ],
   "id": "5cc5c75b027e53dc",
   "outputs": [
    {
     "data": {
      "text/plain": [
       "tensor([[[ 1,  2,  3],\n",
       "         [ 3, 12,  3]],\n",
       "\n",
       "        [[ 1,  2,  4],\n",
       "         [ 1,  5,  2]]])"
      ]
     },
     "execution_count": 15,
     "metadata": {},
     "output_type": "execute_result"
    }
   ],
   "execution_count": 15
  },
  {
   "metadata": {
    "ExecuteTime": {
     "end_time": "2024-10-13T07:07:06.468851Z",
     "start_time": "2024-10-13T07:07:06.449290Z"
    }
   },
   "cell_type": "code",
   "source": "M1.ndim",
   "id": "451d1503516569fc",
   "outputs": [
    {
     "data": {
      "text/plain": [
       "3"
      ]
     },
     "execution_count": 16,
     "metadata": {},
     "output_type": "execute_result"
    }
   ],
   "execution_count": 16
  },
  {
   "metadata": {
    "ExecuteTime": {
     "end_time": "2024-10-13T07:07:06.560541Z",
     "start_time": "2024-10-13T07:07:06.549529Z"
    }
   },
   "cell_type": "code",
   "source": "M1.shape",
   "id": "a2c1f4d65e6fad19",
   "outputs": [
    {
     "data": {
      "text/plain": [
       "torch.Size([2, 2, 3])"
      ]
     },
     "execution_count": 17,
     "metadata": {},
     "output_type": "execute_result"
    }
   ],
   "execution_count": 17
  },
  {
   "metadata": {
    "ExecuteTime": {
     "end_time": "2024-10-13T07:07:06.601112Z",
     "start_time": "2024-10-13T07:07:06.592580Z"
    }
   },
   "cell_type": "code",
   "source": [
    "M2 = torch.tensor([[[[4,4], [5,4]]]])\n",
    "M2"
   ],
   "id": "c7d202a5778fba14",
   "outputs": [
    {
     "data": {
      "text/plain": [
       "tensor([[[[4, 4],\n",
       "          [5, 4]]]])"
      ]
     },
     "execution_count": 18,
     "metadata": {},
     "output_type": "execute_result"
    }
   ],
   "execution_count": 18
  },
  {
   "metadata": {
    "ExecuteTime": {
     "end_time": "2024-10-13T07:07:06.645414Z",
     "start_time": "2024-10-13T07:07:06.637450Z"
    }
   },
   "cell_type": "code",
   "source": "M2.ndim",
   "id": "b06262cb52d2814b",
   "outputs": [
    {
     "data": {
      "text/plain": [
       "4"
      ]
     },
     "execution_count": 19,
     "metadata": {},
     "output_type": "execute_result"
    }
   ],
   "execution_count": 19
  },
  {
   "metadata": {
    "ExecuteTime": {
     "end_time": "2024-10-13T07:07:06.718085Z",
     "start_time": "2024-10-13T07:07:06.705506Z"
    }
   },
   "cell_type": "code",
   "source": "M2.shape",
   "id": "31fc1774f5ffd3",
   "outputs": [
    {
     "data": {
      "text/plain": [
       "torch.Size([1, 1, 2, 2])"
      ]
     },
     "execution_count": 20,
     "metadata": {},
     "output_type": "execute_result"
    }
   ],
   "execution_count": 20
  },
  {
   "metadata": {
    "ExecuteTime": {
     "end_time": "2024-10-13T07:07:06.743074Z",
     "start_time": "2024-10-13T07:07:06.737735Z"
    }
   },
   "cell_type": "code",
   "source": [
    "M3 = torch.tensor([[[1,0,1,0,0,], [1,0,0,1,0]], [[1,0,1,1,1], [0,1,1,1,0]]])\n",
    "M3"
   ],
   "id": "7b58efa173f81a21",
   "outputs": [
    {
     "data": {
      "text/plain": [
       "tensor([[[1, 0, 1, 0, 0],\n",
       "         [1, 0, 0, 1, 0]],\n",
       "\n",
       "        [[1, 0, 1, 1, 1],\n",
       "         [0, 1, 1, 1, 0]]])"
      ]
     },
     "execution_count": 21,
     "metadata": {},
     "output_type": "execute_result"
    }
   ],
   "execution_count": 21
  },
  {
   "metadata": {
    "ExecuteTime": {
     "end_time": "2024-10-13T07:07:06.904947Z",
     "start_time": "2024-10-13T07:07:06.882763Z"
    }
   },
   "cell_type": "code",
   "source": "M3.ndim",
   "id": "49a236595a73733d",
   "outputs": [
    {
     "data": {
      "text/plain": [
       "3"
      ]
     },
     "execution_count": 22,
     "metadata": {},
     "output_type": "execute_result"
    }
   ],
   "execution_count": 22
  },
  {
   "metadata": {
    "ExecuteTime": {
     "end_time": "2024-10-13T07:07:07.111510Z",
     "start_time": "2024-10-13T07:07:07.103873Z"
    }
   },
   "cell_type": "code",
   "source": "M3.shape",
   "id": "9b39a0e7184680f1",
   "outputs": [
    {
     "data": {
      "text/plain": [
       "torch.Size([2, 2, 5])"
      ]
     },
     "execution_count": 23,
     "metadata": {},
     "output_type": "execute_result"
    }
   ],
   "execution_count": 23
  },
  {
   "metadata": {},
   "cell_type": "markdown",
   "source": [
    "## Random Tensors\n",
    "Random tensors are important because of the way many neural networks learn. They start with tensors full of random numbers and then adjust those numbers to better represent the data."
   ],
   "id": "ed1c1c0066b19eff"
  },
  {
   "metadata": {
    "ExecuteTime": {
     "end_time": "2024-10-13T07:09:32.529765Z",
     "start_time": "2024-10-13T07:09:32.503805Z"
    }
   },
   "cell_type": "code",
   "source": [
    "# Create random tensor of size (3, 4)\n",
    "random_tensor = torch.rand((3, 4))\n",
    "random_tensor"
   ],
   "id": "7f68b921c6122cea",
   "outputs": [
    {
     "data": {
      "text/plain": [
       "tensor([[0.4230, 0.5617, 0.1580, 0.8026],\n",
       "        [0.9833, 0.0885, 0.9052, 0.2069],\n",
       "        [0.3762, 0.9838, 0.7216, 0.9790]])"
      ]
     },
     "execution_count": 29,
     "metadata": {},
     "output_type": "execute_result"
    }
   ],
   "execution_count": 29
  },
  {
   "metadata": {
    "ExecuteTime": {
     "end_time": "2024-10-13T07:09:34.157124Z",
     "start_time": "2024-10-13T07:09:34.142423Z"
    }
   },
   "cell_type": "code",
   "source": "random_tensor.ndim",
   "id": "a97c13e6f69559a6",
   "outputs": [
    {
     "data": {
      "text/plain": [
       "2"
      ]
     },
     "execution_count": 30,
     "metadata": {},
     "output_type": "execute_result"
    }
   ],
   "execution_count": 30
  },
  {
   "metadata": {
    "ExecuteTime": {
     "end_time": "2024-10-13T07:09:35.381832Z",
     "start_time": "2024-10-13T07:09:35.359704Z"
    }
   },
   "cell_type": "code",
   "source": "random_tensor.shape",
   "id": "d2cd5615845e48c0",
   "outputs": [
    {
     "data": {
      "text/plain": [
       "torch.Size([3, 4])"
      ]
     },
     "execution_count": 31,
     "metadata": {},
     "output_type": "execute_result"
    }
   ],
   "execution_count": 31
  },
  {
   "metadata": {
    "ExecuteTime": {
     "end_time": "2024-10-13T07:11:38.086016Z",
     "start_time": "2024-10-13T07:11:38.054422Z"
    }
   },
   "cell_type": "code",
   "source": [
    "# Create random tensor similar to image\n",
    "random_img_tensor = torch.rand((3, 224, 224))\n",
    "random_img_tensor.ndim"
   ],
   "id": "96a5b59ec1cef147",
   "outputs": [
    {
     "data": {
      "text/plain": [
       "3"
      ]
     },
     "execution_count": 34,
     "metadata": {},
     "output_type": "execute_result"
    }
   ],
   "execution_count": 34
  },
  {
   "metadata": {},
   "cell_type": "markdown",
   "source": "### Exercises",
   "id": "562cb173da7849c4"
  },
  {
   "metadata": {
    "ExecuteTime": {
     "end_time": "2024-10-13T07:13:12.521027Z",
     "start_time": "2024-10-13T07:13:12.510139Z"
    }
   },
   "cell_type": "code",
   "source": [
    "sales_tensor = torch.rand((10, 7))\n",
    "sales_tensor"
   ],
   "id": "74dd5b0d94d76dbf",
   "outputs": [
    {
     "data": {
      "text/plain": [
       "tensor([[0.8677, 0.7358, 0.1825, 0.2953, 0.8874, 0.4951, 0.9196],\n",
       "        [0.9463, 0.6032, 0.0717, 0.4885, 0.6137, 0.3512, 0.5334],\n",
       "        [0.0318, 0.3597, 0.0422, 0.1930, 0.5600, 0.9494, 0.3229],\n",
       "        [0.7678, 0.0141, 0.7159, 0.0646, 0.5425, 0.8937, 0.2397],\n",
       "        [0.7331, 0.4163, 0.3470, 0.1783, 0.5505, 0.0200, 0.1598],\n",
       "        [0.1294, 0.4542, 0.7464, 0.2174, 0.0962, 0.0546, 0.0623],\n",
       "        [0.5578, 0.2987, 0.0720, 0.4657, 0.0283, 0.1986, 0.8744],\n",
       "        [0.1997, 0.4976, 0.3304, 0.5352, 0.8426, 0.9160, 0.0098],\n",
       "        [0.6751, 0.2533, 0.0869, 0.5067, 0.4571, 0.5704, 0.6114],\n",
       "        [0.2315, 0.6045, 0.3078, 0.7108, 0.3326, 0.7905, 0.6345]])"
      ]
     },
     "execution_count": 36,
     "metadata": {},
     "output_type": "execute_result"
    }
   ],
   "execution_count": 36
  },
  {
   "metadata": {
    "ExecuteTime": {
     "end_time": "2024-10-13T07:14:04.800132Z",
     "start_time": "2024-10-13T07:14:04.777537Z"
    }
   },
   "cell_type": "code",
   "source": [
    "personal_numbers_tensor = torch.rand((6, 12))\n",
    "personal_numbers_tensor"
   ],
   "id": "fb4425d81c9669fc",
   "outputs": [
    {
     "data": {
      "text/plain": [
       "tensor([[0.2420, 0.4158, 0.4636, 0.1897, 0.7815, 0.3005, 0.9500, 0.1204, 0.0398,\n",
       "         0.2332, 0.2343, 0.7598],\n",
       "        [0.7032, 0.5880, 0.8292, 0.1723, 0.1768, 0.3789, 0.7831, 0.0185, 0.3101,\n",
       "         0.9096, 0.7540, 0.4735],\n",
       "        [0.5583, 0.2134, 0.4665, 0.7285, 0.0351, 0.0486, 0.4831, 0.6479, 0.8106,\n",
       "         0.6800, 0.6158, 0.1361],\n",
       "        [0.8739, 0.6466, 0.4669, 0.7780, 0.3132, 0.7433, 0.2714, 0.8763, 0.8178,\n",
       "         0.7427, 0.2856, 0.0628],\n",
       "        [0.6772, 0.1977, 0.4250, 0.6857, 0.6368, 0.5678, 0.2198, 0.0115, 0.0437,\n",
       "         0.1005, 0.5020, 0.0041],\n",
       "        [0.9146, 0.3861, 0.6101, 0.9455, 0.0603, 0.4471, 0.6781, 0.8166, 0.6583,\n",
       "         0.7717, 0.8217, 0.0630]])"
      ]
     },
     "execution_count": 38,
     "metadata": {},
     "output_type": "execute_result"
    }
   ],
   "execution_count": 38
  },
  {
   "metadata": {},
   "cell_type": "markdown",
   "source": "## Zeros and ones",
   "id": "d44fb5b54b1f7842"
  },
  {
   "metadata": {
    "ExecuteTime": {
     "end_time": "2024-10-13T07:16:03.467520Z",
     "start_time": "2024-10-13T07:16:03.458105Z"
    }
   },
   "cell_type": "code",
   "source": [
    "# Create tensor of all zeros\n",
    "zeros = torch.zeros((3,5))\n",
    "zeros"
   ],
   "id": "e635e494bc23ee33",
   "outputs": [
    {
     "data": {
      "text/plain": [
       "tensor([[0., 0., 0., 0., 0.],\n",
       "        [0., 0., 0., 0., 0.],\n",
       "        [0., 0., 0., 0., 0.]])"
      ]
     },
     "execution_count": 40,
     "metadata": {},
     "output_type": "execute_result"
    }
   ],
   "execution_count": 40
  },
  {
   "metadata": {
    "ExecuteTime": {
     "end_time": "2024-10-13T07:16:32.278098Z",
     "start_time": "2024-10-13T07:16:32.260527Z"
    }
   },
   "cell_type": "code",
   "source": [
    "# Create tensor of ones\n",
    "ones = torch.ones((4,6))\n",
    "ones"
   ],
   "id": "56e3d4710fb9ee8b",
   "outputs": [
    {
     "data": {
      "text/plain": [
       "tensor([[1., 1., 1., 1., 1., 1.],\n",
       "        [1., 1., 1., 1., 1., 1.],\n",
       "        [1., 1., 1., 1., 1., 1.],\n",
       "        [1., 1., 1., 1., 1., 1.]])"
      ]
     },
     "execution_count": 42,
     "metadata": {},
     "output_type": "execute_result"
    }
   ],
   "execution_count": 42
  },
  {
   "metadata": {
    "ExecuteTime": {
     "end_time": "2024-10-13T07:16:43.924126Z",
     "start_time": "2024-10-13T07:16:43.900290Z"
    }
   },
   "cell_type": "code",
   "source": "ones.dtype",
   "id": "d2292d29e6b4d29c",
   "outputs": [
    {
     "data": {
      "text/plain": [
       "torch.float32"
      ]
     },
     "execution_count": 43,
     "metadata": {},
     "output_type": "execute_result"
    }
   ],
   "execution_count": 43
  },
  {
   "metadata": {},
   "cell_type": "markdown",
   "source": "## Creating range of tensors and tensor-like",
   "id": "7e83e7aa238eef99"
  },
  {
   "metadata": {
    "ExecuteTime": {
     "end_time": "2024-10-13T07:21:52.698861Z",
     "start_time": "2024-10-13T07:21:52.686930Z"
    }
   },
   "cell_type": "code",
   "source": [
    "# Create range of tensors\n",
    "one_to_ten = torch.arange(1,11)\n",
    "one_to_ten"
   ],
   "id": "2b8cfba76831bcdc",
   "outputs": [
    {
     "data": {
      "text/plain": [
       "tensor([ 1,  2,  3,  4,  5,  6,  7,  8,  9, 10])"
      ]
     },
     "execution_count": 46,
     "metadata": {},
     "output_type": "execute_result"
    }
   ],
   "execution_count": 46
  },
  {
   "metadata": {
    "ExecuteTime": {
     "end_time": "2024-10-13T07:22:46.571927Z",
     "start_time": "2024-10-13T07:22:46.554013Z"
    }
   },
   "cell_type": "code",
   "source": [
    "sm_range = torch.arange(start=10, end=110, step=5)\n",
    "sm_range"
   ],
   "id": "55488da0295a4753",
   "outputs": [
    {
     "data": {
      "text/plain": [
       "tensor([ 10,  15,  20,  25,  30,  35,  40,  45,  50,  55,  60,  65,  70,  75,\n",
       "         80,  85,  90,  95, 100, 105])"
      ]
     },
     "execution_count": 48,
     "metadata": {},
     "output_type": "execute_result"
    }
   ],
   "execution_count": 48
  },
  {
   "metadata": {
    "ExecuteTime": {
     "end_time": "2024-10-13T07:24:00.656992Z",
     "start_time": "2024-10-13T07:24:00.645141Z"
    }
   },
   "cell_type": "code",
   "source": [
    "# Create tenosr-like\n",
    "ten_zeros = torch.zeros_like(one_to_ten)\n",
    "ten_zeros"
   ],
   "id": "91f1623fe8427cb2",
   "outputs": [
    {
     "data": {
      "text/plain": [
       "tensor([0, 0, 0, 0, 0, 0, 0, 0, 0, 0])"
      ]
     },
     "execution_count": 51,
     "metadata": {},
     "output_type": "execute_result"
    }
   ],
   "execution_count": 51
  },
  {
   "metadata": {
    "ExecuteTime": {
     "end_time": "2024-10-13T07:26:11.705154Z",
     "start_time": "2024-10-13T07:26:11.694113Z"
    }
   },
   "cell_type": "code",
   "source": [
    "rand_ints = torch.randint_like(input=sm_range, high=255)\n",
    "rand_ints"
   ],
   "id": "dec906aaffb73fe8",
   "outputs": [
    {
     "data": {
      "text/plain": [
       "tensor([ 99, 171, 241, 174, 204,  94,  17,  98, 210,  81, 164, 123,  52, 139,\n",
       "        100, 252, 206, 175,  82, 142])"
      ]
     },
     "execution_count": 56,
     "metadata": {},
     "output_type": "execute_result"
    }
   ],
   "execution_count": 56
  },
  {
   "metadata": {},
   "cell_type": "markdown",
   "source": [
    "## Tensor datatypes\n",
    "**Note:** Tensor datatypes is one of the 3 big errors you'll run into ML:\n",
    "   1. Tensors not right datatype,\n",
    "   2. Tensors not right shape,\n",
    "   3. Tensors not on the right device."
   ],
   "id": "aca5438a04825b92"
  },
  {
   "metadata": {
    "ExecuteTime": {
     "end_time": "2024-10-13T07:28:04.184142Z",
     "start_time": "2024-10-13T07:28:04.169690Z"
    }
   },
   "cell_type": "code",
   "source": [
    "float_32_tensor = torch.tensor([3.0, 2.0, 2.4],\n",
    "                               dtype=None, # What datatype is the tensor (e.g. float32)\n",
    "                               device=None,\n",
    "                               requires_grad=False)\n",
    "float_32_tensor.dtype"
   ],
   "id": "9c0c62146789f5b4",
   "outputs": [
    {
     "data": {
      "text/plain": [
       "torch.float32"
      ]
     },
     "execution_count": 57,
     "metadata": {},
     "output_type": "execute_result"
    }
   ],
   "execution_count": 57
  },
  {
   "metadata": {},
   "cell_type": "code",
   "outputs": [],
   "execution_count": null,
   "source": "",
   "id": "cf895245fb6c64f"
  }
 ],
 "metadata": {
  "kernelspec": {
   "display_name": "Python 3",
   "language": "python",
   "name": "python3"
  },
  "language_info": {
   "codemirror_mode": {
    "name": "ipython",
    "version": 2
   },
   "file_extension": ".py",
   "mimetype": "text/x-python",
   "name": "python",
   "nbconvert_exporter": "python",
   "pygments_lexer": "ipython2",
   "version": "2.7.6"
  }
 },
 "nbformat": 4,
 "nbformat_minor": 5
}
