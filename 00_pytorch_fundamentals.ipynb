{
 "cells": [
  {
   "cell_type": "code",
   "id": "initial_id",
   "metadata": {
    "collapsed": true,
    "ExecuteTime": {
     "end_time": "2024-10-12T11:43:18.061987Z",
     "start_time": "2024-10-12T11:43:18.041028Z"
    }
   },
   "source": [
    "import torch\n",
    "import pandas as pd\n",
    "import numpy as np\n",
    "import matplotlib.pyplot as plt\n",
    "print(torch.__version__)"
   ],
   "outputs": [
    {
     "name": "stdout",
     "output_type": "stream",
     "text": [
      "2.4.1+cpu\n"
     ]
    }
   ],
   "execution_count": 26
  },
  {
   "metadata": {},
   "cell_type": "markdown",
   "source": [
    "# Introduction to Tensors\n",
    "## Creating tensors"
   ],
   "id": "10dcb04f3a8ff20f"
  },
  {
   "metadata": {
    "ExecuteTime": {
     "end_time": "2024-10-12T11:43:18.125136Z",
     "start_time": "2024-10-12T11:43:18.114631Z"
    }
   },
   "cell_type": "code",
   "source": [
    "# Scalar\n",
    "scalar = torch.scalar_tensor(7, dtype=torch.int)\n",
    "scalar"
   ],
   "id": "482f520a5a2ac812",
   "outputs": [
    {
     "data": {
      "text/plain": [
       "tensor(7, dtype=torch.int32)"
      ]
     },
     "execution_count": 27,
     "metadata": {},
     "output_type": "execute_result"
    }
   ],
   "execution_count": 27
  },
  {
   "metadata": {
    "ExecuteTime": {
     "end_time": "2024-10-12T11:43:18.176782Z",
     "start_time": "2024-10-12T11:43:18.166669Z"
    }
   },
   "cell_type": "code",
   "source": "scalar.ndim",
   "id": "4884571f704c38dd",
   "outputs": [
    {
     "data": {
      "text/plain": [
       "0"
      ]
     },
     "execution_count": 28,
     "metadata": {},
     "output_type": "execute_result"
    }
   ],
   "execution_count": 28
  },
  {
   "metadata": {
    "ExecuteTime": {
     "end_time": "2024-10-12T11:43:18.237489Z",
     "start_time": "2024-10-12T11:43:18.217512Z"
    }
   },
   "cell_type": "code",
   "source": "scalar.item()",
   "id": "b9cb3d8a1e7b0db3",
   "outputs": [
    {
     "data": {
      "text/plain": [
       "7"
      ]
     },
     "execution_count": 29,
     "metadata": {},
     "output_type": "execute_result"
    }
   ],
   "execution_count": 29
  },
  {
   "metadata": {
    "ExecuteTime": {
     "end_time": "2024-10-12T11:43:18.319048Z",
     "start_time": "2024-10-12T11:43:18.309211Z"
    }
   },
   "cell_type": "code",
   "source": [
    "# Vector\n",
    "vector = torch.tensor([1, 2, 3])\n",
    "vector"
   ],
   "id": "8ea60b951f098d51",
   "outputs": [
    {
     "data": {
      "text/plain": [
       "tensor([1, 2, 3])"
      ]
     },
     "execution_count": 30,
     "metadata": {},
     "output_type": "execute_result"
    }
   ],
   "execution_count": 30
  },
  {
   "metadata": {
    "ExecuteTime": {
     "end_time": "2024-10-12T11:43:18.366603Z",
     "start_time": "2024-10-12T11:43:18.348895Z"
    }
   },
   "cell_type": "code",
   "source": "vector.ndim",
   "id": "478720093d428dc2",
   "outputs": [
    {
     "data": {
      "text/plain": [
       "1"
      ]
     },
     "execution_count": 31,
     "metadata": {},
     "output_type": "execute_result"
    }
   ],
   "execution_count": 31
  },
  {
   "metadata": {
    "ExecuteTime": {
     "end_time": "2024-10-12T11:43:18.400040Z",
     "start_time": "2024-10-12T11:43:18.389147Z"
    }
   },
   "cell_type": "code",
   "source": "vector.shape",
   "id": "d627a5ae7e1bb591",
   "outputs": [
    {
     "data": {
      "text/plain": [
       "torch.Size([3])"
      ]
     },
     "execution_count": 32,
     "metadata": {},
     "output_type": "execute_result"
    }
   ],
   "execution_count": 32
  },
  {
   "metadata": {
    "ExecuteTime": {
     "end_time": "2024-10-12T11:43:18.432896Z",
     "start_time": "2024-10-12T11:43:18.417499Z"
    }
   },
   "cell_type": "code",
   "source": [
    "# MATRIX\n",
    "MATRIX = torch.tensor([[1, 2], [3, 4]])\n",
    "MATRIX"
   ],
   "id": "cc243d154d400d48",
   "outputs": [
    {
     "data": {
      "text/plain": [
       "tensor([[1, 2],\n",
       "        [3, 4]])"
      ]
     },
     "execution_count": 33,
     "metadata": {},
     "output_type": "execute_result"
    }
   ],
   "execution_count": 33
  },
  {
   "metadata": {
    "ExecuteTime": {
     "end_time": "2024-10-12T11:43:18.497645Z",
     "start_time": "2024-10-12T11:43:18.489464Z"
    }
   },
   "cell_type": "code",
   "source": "MATRIX.ndim",
   "id": "cd154968250fbb44",
   "outputs": [
    {
     "data": {
      "text/plain": [
       "2"
      ]
     },
     "execution_count": 34,
     "metadata": {},
     "output_type": "execute_result"
    }
   ],
   "execution_count": 34
  },
  {
   "metadata": {
    "ExecuteTime": {
     "end_time": "2024-10-12T11:43:18.626676Z",
     "start_time": "2024-10-12T11:43:18.612160Z"
    }
   },
   "cell_type": "code",
   "source": "MATRIX.shape",
   "id": "4dde59e0c2919af6",
   "outputs": [
    {
     "data": {
      "text/plain": [
       "torch.Size([2, 2])"
      ]
     },
     "execution_count": 35,
     "metadata": {},
     "output_type": "execute_result"
    }
   ],
   "execution_count": 35
  },
  {
   "metadata": {
    "ExecuteTime": {
     "end_time": "2024-10-12T11:43:18.786974Z",
     "start_time": "2024-10-12T11:43:18.768465Z"
    }
   },
   "cell_type": "code",
   "source": [
    "# TENSOR\n",
    "TENSOR = torch.tensor([[[1, 2], \n",
    "                        [3, 4], \n",
    "                        [5, 6]]])\n",
    "TENSOR"
   ],
   "id": "42b2b4fa5111da62",
   "outputs": [
    {
     "data": {
      "text/plain": [
       "tensor([[[1, 2],\n",
       "         [3, 4],\n",
       "         [5, 6]]])"
      ]
     },
     "execution_count": 36,
     "metadata": {},
     "output_type": "execute_result"
    }
   ],
   "execution_count": 36
  },
  {
   "metadata": {
    "ExecuteTime": {
     "end_time": "2024-10-12T11:43:18.908127Z",
     "start_time": "2024-10-12T11:43:18.900338Z"
    }
   },
   "cell_type": "code",
   "source": "TENSOR.ndim",
   "id": "57ca534bd6843224",
   "outputs": [
    {
     "data": {
      "text/plain": [
       "3"
      ]
     },
     "execution_count": 37,
     "metadata": {},
     "output_type": "execute_result"
    }
   ],
   "execution_count": 37
  },
  {
   "metadata": {
    "ExecuteTime": {
     "end_time": "2024-10-12T11:43:19.010876Z",
     "start_time": "2024-10-12T11:43:19.002335Z"
    }
   },
   "cell_type": "code",
   "source": "TENSOR.shape",
   "id": "82d5b17f5154222a",
   "outputs": [
    {
     "data": {
      "text/plain": [
       "torch.Size([1, 3, 2])"
      ]
     },
     "execution_count": 38,
     "metadata": {},
     "output_type": "execute_result"
    }
   ],
   "execution_count": 38
  },
  {
   "metadata": {},
   "cell_type": "markdown",
   "source": "## Exercises",
   "id": "e76711cc53eadcd7"
  },
  {
   "metadata": {
    "ExecuteTime": {
     "end_time": "2024-10-12T11:45:07.378886Z",
     "start_time": "2024-10-12T11:45:07.371359Z"
    }
   },
   "cell_type": "code",
   "source": [
    "M1 = torch.tensor([[[1,2,3],[3,12,3]], [[1,2,4],[1,5,2]]])\n",
    "M1"
   ],
   "id": "5cc5c75b027e53dc",
   "outputs": [
    {
     "data": {
      "text/plain": [
       "tensor([[[ 1,  2,  3],\n",
       "         [ 3, 12,  3]],\n",
       "\n",
       "        [[ 1,  2,  4],\n",
       "         [ 1,  5,  2]]])"
      ]
     },
     "execution_count": 41,
     "metadata": {},
     "output_type": "execute_result"
    }
   ],
   "execution_count": 41
  },
  {
   "metadata": {
    "ExecuteTime": {
     "end_time": "2024-10-12T11:45:24.967165Z",
     "start_time": "2024-10-12T11:45:24.949332Z"
    }
   },
   "cell_type": "code",
   "source": "M1.ndim",
   "id": "451d1503516569fc",
   "outputs": [
    {
     "data": {
      "text/plain": [
       "3"
      ]
     },
     "execution_count": 42,
     "metadata": {},
     "output_type": "execute_result"
    }
   ],
   "execution_count": 42
  },
  {
   "metadata": {
    "ExecuteTime": {
     "end_time": "2024-10-12T11:45:35.007985Z",
     "start_time": "2024-10-12T11:45:34.992091Z"
    }
   },
   "cell_type": "code",
   "source": "M1.shape",
   "id": "a2c1f4d65e6fad19",
   "outputs": [
    {
     "data": {
      "text/plain": [
       "torch.Size([2, 2, 3])"
      ]
     },
     "execution_count": 43,
     "metadata": {},
     "output_type": "execute_result"
    }
   ],
   "execution_count": 43
  },
  {
   "metadata": {
    "ExecuteTime": {
     "end_time": "2024-10-12T11:46:21.692929Z",
     "start_time": "2024-10-12T11:46:21.673430Z"
    }
   },
   "cell_type": "code",
   "source": [
    "M2 = torch.tensor([[[[4,4], [5,4]]]])\n",
    "M2"
   ],
   "id": "c7d202a5778fba14",
   "outputs": [
    {
     "data": {
      "text/plain": [
       "tensor([[[[4, 4],\n",
       "          [5, 4]]]])"
      ]
     },
     "execution_count": 45,
     "metadata": {},
     "output_type": "execute_result"
    }
   ],
   "execution_count": 45
  },
  {
   "metadata": {
    "ExecuteTime": {
     "end_time": "2024-10-12T11:46:32.862176Z",
     "start_time": "2024-10-12T11:46:32.853957Z"
    }
   },
   "cell_type": "code",
   "source": "M2.ndim",
   "id": "b06262cb52d2814b",
   "outputs": [
    {
     "data": {
      "text/plain": [
       "4"
      ]
     },
     "execution_count": 46,
     "metadata": {},
     "output_type": "execute_result"
    }
   ],
   "execution_count": 46
  },
  {
   "metadata": {
    "ExecuteTime": {
     "end_time": "2024-10-12T11:47:16.790833Z",
     "start_time": "2024-10-12T11:47:16.783108Z"
    }
   },
   "cell_type": "code",
   "source": "M2.shape",
   "id": "31fc1774f5ffd3",
   "outputs": [
    {
     "data": {
      "text/plain": [
       "torch.Size([1, 1, 2, 2])"
      ]
     },
     "execution_count": 47,
     "metadata": {},
     "output_type": "execute_result"
    }
   ],
   "execution_count": 47
  },
  {
   "metadata": {
    "ExecuteTime": {
     "end_time": "2024-10-12T11:48:55.107885Z",
     "start_time": "2024-10-12T11:48:55.091131Z"
    }
   },
   "cell_type": "code",
   "source": [
    "M3 = torch.tensor([[[1,0,1,0,0,], [1,0,0,1,0]], [[1,0,1,1,1], [0,1,1,1,0]]])\n",
    "M3"
   ],
   "id": "7b58efa173f81a21",
   "outputs": [
    {
     "data": {
      "text/plain": [
       "tensor([[[1, 0, 1, 0, 0],\n",
       "         [1, 0, 0, 1, 0]],\n",
       "\n",
       "        [[1, 0, 1, 1, 1],\n",
       "         [0, 1, 1, 1, 0]]])"
      ]
     },
     "execution_count": 49,
     "metadata": {},
     "output_type": "execute_result"
    }
   ],
   "execution_count": 49
  },
  {
   "metadata": {
    "ExecuteTime": {
     "end_time": "2024-10-12T11:49:06.754284Z",
     "start_time": "2024-10-12T11:49:06.738128Z"
    }
   },
   "cell_type": "code",
   "source": "M3.ndim",
   "id": "49a236595a73733d",
   "outputs": [
    {
     "data": {
      "text/plain": [
       "3"
      ]
     },
     "execution_count": 50,
     "metadata": {},
     "output_type": "execute_result"
    }
   ],
   "execution_count": 50
  },
  {
   "metadata": {
    "ExecuteTime": {
     "end_time": "2024-10-12T11:49:20.534191Z",
     "start_time": "2024-10-12T11:49:20.527303Z"
    }
   },
   "cell_type": "code",
   "source": "M3.shape",
   "id": "9b39a0e7184680f1",
   "outputs": [
    {
     "data": {
      "text/plain": [
       "torch.Size([2, 2, 5])"
      ]
     },
     "execution_count": 51,
     "metadata": {},
     "output_type": "execute_result"
    }
   ],
   "execution_count": 51
  }
 ],
 "metadata": {
  "kernelspec": {
   "display_name": "Python 3",
   "language": "python",
   "name": "python3"
  },
  "language_info": {
   "codemirror_mode": {
    "name": "ipython",
    "version": 2
   },
   "file_extension": ".py",
   "mimetype": "text/x-python",
   "name": "python",
   "nbconvert_exporter": "python",
   "pygments_lexer": "ipython2",
   "version": "2.7.6"
  }
 },
 "nbformat": 4,
 "nbformat_minor": 5
}
