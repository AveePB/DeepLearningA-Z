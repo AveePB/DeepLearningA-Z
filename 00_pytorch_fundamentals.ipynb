{
 "cells": [
  {
   "cell_type": "code",
   "id": "initial_id",
   "metadata": {
    "collapsed": true,
    "ExecuteTime": {
     "end_time": "2024-11-09T10:25:56.966080Z",
     "start_time": "2024-11-09T10:25:56.961511Z"
    }
   },
   "source": [
    "from random import random\n",
    "\n",
    "import torch\n",
    "import pandas as pd\n",
    "import numpy as np\n",
    "import matplotlib.pyplot as plt\n",
    "print(torch.__version__)"
   ],
   "outputs": [
    {
     "name": "stdout",
     "output_type": "stream",
     "text": [
      "2.5.1+cpu\n"
     ]
    }
   ],
   "execution_count": 2
  },
  {
   "metadata": {},
   "cell_type": "markdown",
   "source": [
    "# Introduction to Tensors\n",
    "Tensors are the fundamental building blocks of ML. Their job is to represent data in a numerical way.\n",
    "## Creating tensors"
   ],
   "id": "10dcb04f3a8ff20f"
  },
  {
   "metadata": {
    "ExecuteTime": {
     "end_time": "2024-11-09T10:25:57.154569Z",
     "start_time": "2024-11-09T10:25:57.129983Z"
    }
   },
   "cell_type": "code",
   "source": [
    "# Scalar\n",
    "scalar = torch.scalar_tensor(7, dtype=torch.int)\n",
    "scalar"
   ],
   "id": "482f520a5a2ac812",
   "outputs": [
    {
     "data": {
      "text/plain": [
       "tensor(7, dtype=torch.int32)"
      ]
     },
     "execution_count": 3,
     "metadata": {},
     "output_type": "execute_result"
    }
   ],
   "execution_count": 3
  },
  {
   "metadata": {
    "ExecuteTime": {
     "end_time": "2024-11-09T10:25:57.298396Z",
     "start_time": "2024-11-09T10:25:57.290741Z"
    }
   },
   "cell_type": "code",
   "source": "scalar.ndim",
   "id": "4884571f704c38dd",
   "outputs": [
    {
     "data": {
      "text/plain": [
       "0"
      ]
     },
     "execution_count": 4,
     "metadata": {},
     "output_type": "execute_result"
    }
   ],
   "execution_count": 4
  },
  {
   "metadata": {
    "ExecuteTime": {
     "end_time": "2024-11-09T10:25:57.511183Z",
     "start_time": "2024-11-09T10:25:57.501725Z"
    }
   },
   "cell_type": "code",
   "source": "scalar.item()",
   "id": "b9cb3d8a1e7b0db3",
   "outputs": [
    {
     "data": {
      "text/plain": [
       "7"
      ]
     },
     "execution_count": 5,
     "metadata": {},
     "output_type": "execute_result"
    }
   ],
   "execution_count": 5
  },
  {
   "metadata": {
    "ExecuteTime": {
     "end_time": "2024-11-09T10:25:57.593028Z",
     "start_time": "2024-11-09T10:25:57.581654Z"
    }
   },
   "cell_type": "code",
   "source": [
    "# Vector\n",
    "vector = torch.tensor([1, 2, 3])\n",
    "vector"
   ],
   "id": "8ea60b951f098d51",
   "outputs": [
    {
     "data": {
      "text/plain": [
       "tensor([1, 2, 3])"
      ]
     },
     "execution_count": 6,
     "metadata": {},
     "output_type": "execute_result"
    }
   ],
   "execution_count": 6
  },
  {
   "metadata": {
    "ExecuteTime": {
     "end_time": "2024-11-09T10:25:57.673325Z",
     "start_time": "2024-11-09T10:25:57.668732Z"
    }
   },
   "cell_type": "code",
   "source": "vector.ndim",
   "id": "478720093d428dc2",
   "outputs": [
    {
     "data": {
      "text/plain": [
       "1"
      ]
     },
     "execution_count": 7,
     "metadata": {},
     "output_type": "execute_result"
    }
   ],
   "execution_count": 7
  },
  {
   "metadata": {
    "ExecuteTime": {
     "end_time": "2024-11-09T10:25:57.752328Z",
     "start_time": "2024-11-09T10:25:57.745866Z"
    }
   },
   "cell_type": "code",
   "source": "vector.shape",
   "id": "d627a5ae7e1bb591",
   "outputs": [
    {
     "data": {
      "text/plain": [
       "torch.Size([3])"
      ]
     },
     "execution_count": 8,
     "metadata": {},
     "output_type": "execute_result"
    }
   ],
   "execution_count": 8
  },
  {
   "metadata": {
    "ExecuteTime": {
     "end_time": "2024-11-09T10:25:57.841190Z",
     "start_time": "2024-11-09T10:25:57.831587Z"
    }
   },
   "cell_type": "code",
   "source": [
    "# MATRIX\n",
    "MATRIX = torch.tensor([[1, 2], [3, 4]])\n",
    "MATRIX"
   ],
   "id": "cc243d154d400d48",
   "outputs": [
    {
     "data": {
      "text/plain": [
       "tensor([[1, 2],\n",
       "        [3, 4]])"
      ]
     },
     "execution_count": 9,
     "metadata": {},
     "output_type": "execute_result"
    }
   ],
   "execution_count": 9
  },
  {
   "metadata": {
    "ExecuteTime": {
     "end_time": "2024-11-09T10:25:57.903570Z",
     "start_time": "2024-11-09T10:25:57.891864Z"
    }
   },
   "cell_type": "code",
   "source": "MATRIX.ndim",
   "id": "cd154968250fbb44",
   "outputs": [
    {
     "data": {
      "text/plain": [
       "2"
      ]
     },
     "execution_count": 10,
     "metadata": {},
     "output_type": "execute_result"
    }
   ],
   "execution_count": 10
  },
  {
   "metadata": {
    "ExecuteTime": {
     "end_time": "2024-11-09T10:25:57.971013Z",
     "start_time": "2024-11-09T10:25:57.958826Z"
    }
   },
   "cell_type": "code",
   "source": "MATRIX.shape",
   "id": "4dde59e0c2919af6",
   "outputs": [
    {
     "data": {
      "text/plain": [
       "torch.Size([2, 2])"
      ]
     },
     "execution_count": 11,
     "metadata": {},
     "output_type": "execute_result"
    }
   ],
   "execution_count": 11
  },
  {
   "metadata": {
    "ExecuteTime": {
     "end_time": "2024-11-09T10:25:58.509238Z",
     "start_time": "2024-11-09T10:25:58.498627Z"
    }
   },
   "cell_type": "code",
   "source": [
    "# TENSOR\n",
    "TENSOR = torch.tensor([[[1, 2], \n",
    "                        [3, 4], \n",
    "                        [5, 6]]])\n",
    "TENSOR"
   ],
   "id": "42b2b4fa5111da62",
   "outputs": [
    {
     "data": {
      "text/plain": [
       "tensor([[[1, 2],\n",
       "         [3, 4],\n",
       "         [5, 6]]])"
      ]
     },
     "execution_count": 12,
     "metadata": {},
     "output_type": "execute_result"
    }
   ],
   "execution_count": 12
  },
  {
   "metadata": {
    "ExecuteTime": {
     "end_time": "2024-11-09T10:25:58.622755Z",
     "start_time": "2024-11-09T10:25:58.617853Z"
    }
   },
   "cell_type": "code",
   "source": "TENSOR.ndim",
   "id": "57ca534bd6843224",
   "outputs": [
    {
     "data": {
      "text/plain": [
       "3"
      ]
     },
     "execution_count": 13,
     "metadata": {},
     "output_type": "execute_result"
    }
   ],
   "execution_count": 13
  },
  {
   "metadata": {
    "ExecuteTime": {
     "end_time": "2024-11-09T10:25:58.701725Z",
     "start_time": "2024-11-09T10:25:58.696729Z"
    }
   },
   "cell_type": "code",
   "source": "TENSOR.shape",
   "id": "82d5b17f5154222a",
   "outputs": [
    {
     "data": {
      "text/plain": [
       "torch.Size([1, 3, 2])"
      ]
     },
     "execution_count": 14,
     "metadata": {},
     "output_type": "execute_result"
    }
   ],
   "execution_count": 14
  },
  {
   "metadata": {},
   "cell_type": "markdown",
   "source": "### Exercises",
   "id": "e76711cc53eadcd7"
  },
  {
   "metadata": {
    "ExecuteTime": {
     "end_time": "2024-11-09T10:25:58.734998Z",
     "start_time": "2024-11-09T10:25:58.729231Z"
    }
   },
   "cell_type": "code",
   "source": [
    "M1 = torch.tensor([[[1,2,3],[3,12,3]], [[1,2,4],[1,5,2]]])\n",
    "M1"
   ],
   "id": "5cc5c75b027e53dc",
   "outputs": [
    {
     "data": {
      "text/plain": [
       "tensor([[[ 1,  2,  3],\n",
       "         [ 3, 12,  3]],\n",
       "\n",
       "        [[ 1,  2,  4],\n",
       "         [ 1,  5,  2]]])"
      ]
     },
     "execution_count": 15,
     "metadata": {},
     "output_type": "execute_result"
    }
   ],
   "execution_count": 15
  },
  {
   "metadata": {
    "ExecuteTime": {
     "end_time": "2024-11-09T10:25:58.827275Z",
     "start_time": "2024-11-09T10:25:58.820054Z"
    }
   },
   "cell_type": "code",
   "source": "M1.ndim",
   "id": "451d1503516569fc",
   "outputs": [
    {
     "data": {
      "text/plain": [
       "3"
      ]
     },
     "execution_count": 16,
     "metadata": {},
     "output_type": "execute_result"
    }
   ],
   "execution_count": 16
  },
  {
   "metadata": {
    "ExecuteTime": {
     "end_time": "2024-11-09T10:25:58.885448Z",
     "start_time": "2024-11-09T10:25:58.875235Z"
    }
   },
   "cell_type": "code",
   "source": "M1.shape",
   "id": "a2c1f4d65e6fad19",
   "outputs": [
    {
     "data": {
      "text/plain": [
       "torch.Size([2, 2, 3])"
      ]
     },
     "execution_count": 17,
     "metadata": {},
     "output_type": "execute_result"
    }
   ],
   "execution_count": 17
  },
  {
   "metadata": {
    "ExecuteTime": {
     "end_time": "2024-11-09T10:25:58.964671Z",
     "start_time": "2024-11-09T10:25:58.958034Z"
    }
   },
   "cell_type": "code",
   "source": [
    "M2 = torch.tensor([[[[4,4], [5,4]]]])\n",
    "M2"
   ],
   "id": "c7d202a5778fba14",
   "outputs": [
    {
     "data": {
      "text/plain": [
       "tensor([[[[4, 4],\n",
       "          [5, 4]]]])"
      ]
     },
     "execution_count": 18,
     "metadata": {},
     "output_type": "execute_result"
    }
   ],
   "execution_count": 18
  },
  {
   "metadata": {
    "ExecuteTime": {
     "end_time": "2024-11-09T10:25:59.019988Z",
     "start_time": "2024-11-09T10:25:59.015042Z"
    }
   },
   "cell_type": "code",
   "source": "M2.ndim",
   "id": "b06262cb52d2814b",
   "outputs": [
    {
     "data": {
      "text/plain": [
       "4"
      ]
     },
     "execution_count": 19,
     "metadata": {},
     "output_type": "execute_result"
    }
   ],
   "execution_count": 19
  },
  {
   "metadata": {
    "ExecuteTime": {
     "end_time": "2024-11-09T10:25:59.105584Z",
     "start_time": "2024-11-09T10:25:59.096799Z"
    }
   },
   "cell_type": "code",
   "source": "M2.shape",
   "id": "31fc1774f5ffd3",
   "outputs": [
    {
     "data": {
      "text/plain": [
       "torch.Size([1, 1, 2, 2])"
      ]
     },
     "execution_count": 20,
     "metadata": {},
     "output_type": "execute_result"
    }
   ],
   "execution_count": 20
  },
  {
   "metadata": {
    "ExecuteTime": {
     "end_time": "2024-11-09T10:25:59.168430Z",
     "start_time": "2024-11-09T10:25:59.162004Z"
    }
   },
   "cell_type": "code",
   "source": [
    "M3 = torch.tensor([[[1,0,1,0,0,], [1,0,0,1,0]], [[1,0,1,1,1], [0,1,1,1,0]]])\n",
    "M3"
   ],
   "id": "7b58efa173f81a21",
   "outputs": [
    {
     "data": {
      "text/plain": [
       "tensor([[[1, 0, 1, 0, 0],\n",
       "         [1, 0, 0, 1, 0]],\n",
       "\n",
       "        [[1, 0, 1, 1, 1],\n",
       "         [0, 1, 1, 1, 0]]])"
      ]
     },
     "execution_count": 21,
     "metadata": {},
     "output_type": "execute_result"
    }
   ],
   "execution_count": 21
  },
  {
   "metadata": {
    "ExecuteTime": {
     "end_time": "2024-11-09T10:25:59.209101Z",
     "start_time": "2024-11-09T10:25:59.204389Z"
    }
   },
   "cell_type": "code",
   "source": "M3.ndim",
   "id": "49a236595a73733d",
   "outputs": [
    {
     "data": {
      "text/plain": [
       "3"
      ]
     },
     "execution_count": 22,
     "metadata": {},
     "output_type": "execute_result"
    }
   ],
   "execution_count": 22
  },
  {
   "metadata": {
    "ExecuteTime": {
     "end_time": "2024-11-09T10:25:59.284305Z",
     "start_time": "2024-11-09T10:25:59.277364Z"
    }
   },
   "cell_type": "code",
   "source": "M3.shape",
   "id": "9b39a0e7184680f1",
   "outputs": [
    {
     "data": {
      "text/plain": [
       "torch.Size([2, 2, 5])"
      ]
     },
     "execution_count": 23,
     "metadata": {},
     "output_type": "execute_result"
    }
   ],
   "execution_count": 23
  },
  {
   "metadata": {},
   "cell_type": "markdown",
   "source": [
    "## Random Tensors\n",
    "Random tensors are important because of the way many neural networks learn. They start with tensors full of random numbers and then adjust those numbers to better represent the data."
   ],
   "id": "ed1c1c0066b19eff"
  },
  {
   "metadata": {
    "ExecuteTime": {
     "end_time": "2024-11-09T10:25:59.354956Z",
     "start_time": "2024-11-09T10:25:59.319579Z"
    }
   },
   "cell_type": "code",
   "source": [
    "# Create random tensor of size (3, 4)\n",
    "random_tensor = torch.rand((3, 4))\n",
    "random_tensor"
   ],
   "id": "7f68b921c6122cea",
   "outputs": [
    {
     "data": {
      "text/plain": [
       "tensor([[0.5447, 0.3018, 0.0451, 0.4901],\n",
       "        [0.6963, 0.8644, 0.5035, 0.6964],\n",
       "        [0.2016, 0.9336, 0.5681, 0.1961]])"
      ]
     },
     "execution_count": 24,
     "metadata": {},
     "output_type": "execute_result"
    }
   ],
   "execution_count": 24
  },
  {
   "metadata": {
    "ExecuteTime": {
     "end_time": "2024-11-09T10:25:59.402661Z",
     "start_time": "2024-11-09T10:25:59.397529Z"
    }
   },
   "cell_type": "code",
   "source": "random_tensor.ndim",
   "id": "a97c13e6f69559a6",
   "outputs": [
    {
     "data": {
      "text/plain": [
       "2"
      ]
     },
     "execution_count": 25,
     "metadata": {},
     "output_type": "execute_result"
    }
   ],
   "execution_count": 25
  },
  {
   "metadata": {
    "ExecuteTime": {
     "end_time": "2024-11-09T10:25:59.472015Z",
     "start_time": "2024-11-09T10:25:59.466499Z"
    }
   },
   "cell_type": "code",
   "source": "random_tensor.shape",
   "id": "d2cd5615845e48c0",
   "outputs": [
    {
     "data": {
      "text/plain": [
       "torch.Size([3, 4])"
      ]
     },
     "execution_count": 26,
     "metadata": {},
     "output_type": "execute_result"
    }
   ],
   "execution_count": 26
  },
  {
   "metadata": {
    "ExecuteTime": {
     "end_time": "2024-11-09T10:25:59.586704Z",
     "start_time": "2024-11-09T10:25:59.580507Z"
    }
   },
   "cell_type": "code",
   "source": [
    "# Create random tensor similar to image\n",
    "random_img_tensor = torch.rand((3, 224, 224))\n",
    "random_img_tensor.ndim"
   ],
   "id": "96a5b59ec1cef147",
   "outputs": [
    {
     "data": {
      "text/plain": [
       "3"
      ]
     },
     "execution_count": 27,
     "metadata": {},
     "output_type": "execute_result"
    }
   ],
   "execution_count": 27
  },
  {
   "metadata": {},
   "cell_type": "markdown",
   "source": "### Exercises",
   "id": "562cb173da7849c4"
  },
  {
   "metadata": {
    "ExecuteTime": {
     "end_time": "2024-11-09T10:25:59.635298Z",
     "start_time": "2024-11-09T10:25:59.623964Z"
    }
   },
   "cell_type": "code",
   "source": [
    "sales_tensor = torch.rand((10, 7))\n",
    "sales_tensor"
   ],
   "id": "74dd5b0d94d76dbf",
   "outputs": [
    {
     "data": {
      "text/plain": [
       "tensor([[0.6772, 0.1481, 0.7768, 0.1095, 0.3635, 0.4765, 0.9195],\n",
       "        [0.4478, 0.0075, 0.5989, 0.1406, 0.5261, 0.1715, 0.7412],\n",
       "        [0.5932, 0.7223, 0.1732, 0.4040, 0.0291, 0.4278, 0.5679],\n",
       "        [0.7810, 0.3314, 0.6463, 0.2172, 0.3202, 0.0544, 0.3151],\n",
       "        [0.4677, 0.1592, 0.8364, 0.2705, 0.0211, 0.7047, 0.7250],\n",
       "        [0.5730, 0.9793, 0.6317, 0.7518, 0.4647, 0.1786, 0.4240],\n",
       "        [0.4039, 0.7258, 0.5029, 0.7520, 0.1314, 0.2914, 0.8339],\n",
       "        [0.5197, 0.4250, 0.9307, 0.2786, 0.1378, 0.6610, 0.4635],\n",
       "        [0.3048, 0.3859, 0.4860, 0.7139, 0.2533, 0.6627, 0.8649],\n",
       "        [0.3761, 0.8069, 0.8219, 0.5732, 0.7965, 0.8102, 0.7818]])"
      ]
     },
     "execution_count": 28,
     "metadata": {},
     "output_type": "execute_result"
    }
   ],
   "execution_count": 28
  },
  {
   "metadata": {
    "ExecuteTime": {
     "end_time": "2024-11-09T10:25:59.697216Z",
     "start_time": "2024-11-09T10:25:59.689443Z"
    }
   },
   "cell_type": "code",
   "source": [
    "personal_numbers_tensor = torch.rand((6, 12))\n",
    "personal_numbers_tensor"
   ],
   "id": "fb4425d81c9669fc",
   "outputs": [
    {
     "data": {
      "text/plain": [
       "tensor([[0.7424, 0.7377, 0.6499, 0.6261, 0.6766, 0.6453, 0.9819, 0.4202, 0.5070,\n",
       "         0.9004, 0.4851, 0.0055],\n",
       "        [0.2425, 0.7912, 0.2210, 0.2240, 0.8347, 0.7223, 0.9619, 0.2778, 0.0774,\n",
       "         0.7339, 0.9812, 0.5409],\n",
       "        [0.5320, 0.9273, 0.0239, 0.5260, 0.7554, 0.6852, 0.8440, 0.8200, 0.7871,\n",
       "         0.3250, 0.7039, 0.7732],\n",
       "        [0.8063, 0.9995, 0.2079, 0.4633, 0.0081, 0.9473, 0.0964, 0.3101, 0.9992,\n",
       "         0.6244, 0.9912, 0.7315],\n",
       "        [0.5765, 0.9595, 0.4073, 0.7061, 0.1427, 0.0360, 0.0084, 0.1274, 0.2336,\n",
       "         0.9587, 0.0554, 0.9343],\n",
       "        [0.0403, 0.8524, 0.4046, 0.9304, 0.2973, 0.0859, 0.4431, 0.0151, 0.1433,\n",
       "         0.5457, 0.3593, 0.4270]])"
      ]
     },
     "execution_count": 29,
     "metadata": {},
     "output_type": "execute_result"
    }
   ],
   "execution_count": 29
  },
  {
   "metadata": {},
   "cell_type": "markdown",
   "source": "## Zeros and ones",
   "id": "d44fb5b54b1f7842"
  },
  {
   "metadata": {
    "ExecuteTime": {
     "end_time": "2024-11-09T10:25:59.810866Z",
     "start_time": "2024-11-09T10:25:59.804730Z"
    }
   },
   "cell_type": "code",
   "source": [
    "# Create tensor of all zeros\n",
    "zeros = torch.zeros((3,5))\n",
    "zeros"
   ],
   "id": "e635e494bc23ee33",
   "outputs": [
    {
     "data": {
      "text/plain": [
       "tensor([[0., 0., 0., 0., 0.],\n",
       "        [0., 0., 0., 0., 0.],\n",
       "        [0., 0., 0., 0., 0.]])"
      ]
     },
     "execution_count": 30,
     "metadata": {},
     "output_type": "execute_result"
    }
   ],
   "execution_count": 30
  },
  {
   "metadata": {
    "ExecuteTime": {
     "end_time": "2024-11-09T10:25:59.931061Z",
     "start_time": "2024-11-09T10:25:59.921664Z"
    }
   },
   "cell_type": "code",
   "source": [
    "# Create tensor of ones\n",
    "ones = torch.ones((4,6))\n",
    "ones"
   ],
   "id": "56e3d4710fb9ee8b",
   "outputs": [
    {
     "data": {
      "text/plain": [
       "tensor([[1., 1., 1., 1., 1., 1.],\n",
       "        [1., 1., 1., 1., 1., 1.],\n",
       "        [1., 1., 1., 1., 1., 1.],\n",
       "        [1., 1., 1., 1., 1., 1.]])"
      ]
     },
     "execution_count": 31,
     "metadata": {},
     "output_type": "execute_result"
    }
   ],
   "execution_count": 31
  },
  {
   "metadata": {
    "ExecuteTime": {
     "end_time": "2024-11-09T10:26:00.048817Z",
     "start_time": "2024-11-09T10:26:00.042620Z"
    }
   },
   "cell_type": "code",
   "source": "ones.dtype",
   "id": "d2292d29e6b4d29c",
   "outputs": [
    {
     "data": {
      "text/plain": [
       "torch.float32"
      ]
     },
     "execution_count": 32,
     "metadata": {},
     "output_type": "execute_result"
    }
   ],
   "execution_count": 32
  },
  {
   "metadata": {},
   "cell_type": "markdown",
   "source": "## Creating range of tensors and tensor-like",
   "id": "7e83e7aa238eef99"
  },
  {
   "metadata": {
    "ExecuteTime": {
     "end_time": "2024-11-09T10:26:00.334228Z",
     "start_time": "2024-11-09T10:26:00.327704Z"
    }
   },
   "cell_type": "code",
   "source": [
    "# Create range of tensors\n",
    "one_to_ten = torch.arange(1,11)\n",
    "one_to_ten"
   ],
   "id": "2b8cfba76831bcdc",
   "outputs": [
    {
     "data": {
      "text/plain": [
       "tensor([ 1,  2,  3,  4,  5,  6,  7,  8,  9, 10])"
      ]
     },
     "execution_count": 33,
     "metadata": {},
     "output_type": "execute_result"
    }
   ],
   "execution_count": 33
  },
  {
   "metadata": {
    "ExecuteTime": {
     "end_time": "2024-11-09T10:26:00.387208Z",
     "start_time": "2024-11-09T10:26:00.380993Z"
    }
   },
   "cell_type": "code",
   "source": [
    "sm_range = torch.arange(start=10, end=110, step=5)\n",
    "sm_range"
   ],
   "id": "55488da0295a4753",
   "outputs": [
    {
     "data": {
      "text/plain": [
       "tensor([ 10,  15,  20,  25,  30,  35,  40,  45,  50,  55,  60,  65,  70,  75,\n",
       "         80,  85,  90,  95, 100, 105])"
      ]
     },
     "execution_count": 34,
     "metadata": {},
     "output_type": "execute_result"
    }
   ],
   "execution_count": 34
  },
  {
   "metadata": {
    "ExecuteTime": {
     "end_time": "2024-11-09T10:26:00.516177Z",
     "start_time": "2024-11-09T10:26:00.511384Z"
    }
   },
   "cell_type": "code",
   "source": [
    "# Create tenosr-like\n",
    "ten_zeros = torch.zeros_like(one_to_ten)\n",
    "ten_zeros"
   ],
   "id": "91f1623fe8427cb2",
   "outputs": [
    {
     "data": {
      "text/plain": [
       "tensor([0, 0, 0, 0, 0, 0, 0, 0, 0, 0])"
      ]
     },
     "execution_count": 35,
     "metadata": {},
     "output_type": "execute_result"
    }
   ],
   "execution_count": 35
  },
  {
   "metadata": {
    "ExecuteTime": {
     "end_time": "2024-11-09T10:26:00.598653Z",
     "start_time": "2024-11-09T10:26:00.591348Z"
    }
   },
   "cell_type": "code",
   "source": [
    "rand_ints = torch.randint_like(input=sm_range, high=255)\n",
    "rand_ints"
   ],
   "id": "dec906aaffb73fe8",
   "outputs": [
    {
     "data": {
      "text/plain": [
       "tensor([163, 173,  44, 192, 148, 115, 190,  21, 145, 155,  25,  16, 135, 225,\n",
       "        196, 112, 212,  53, 138,  63])"
      ]
     },
     "execution_count": 36,
     "metadata": {},
     "output_type": "execute_result"
    }
   ],
   "execution_count": 36
  },
  {
   "metadata": {},
   "cell_type": "markdown",
   "source": [
    "## Tensor datatypes\n",
    "**Note:** Tensor datatypes is one of the 3 big errors you'll run into ML:\n",
    "   1. Tensors not right datatype,\n",
    "   2. Tensors not right shape,\n",
    "   3. Tensors not on the right device."
   ],
   "id": "aca5438a04825b92"
  },
  {
   "metadata": {
    "ExecuteTime": {
     "end_time": "2024-11-09T10:26:00.664429Z",
     "start_time": "2024-11-09T10:26:00.658101Z"
    }
   },
   "cell_type": "code",
   "source": [
    "float_32_tensor = torch.tensor([3.0, 2.0, 2.4],\n",
    "                               dtype=None, # What datatype is the tensor (e.g. float32)\n",
    "                               device=None,\n",
    "                               requires_grad=False)\n",
    "float_32_tensor.dtype"
   ],
   "id": "9c0c62146789f5b4",
   "outputs": [
    {
     "data": {
      "text/plain": [
       "torch.float32"
      ]
     },
     "execution_count": 37,
     "metadata": {},
     "output_type": "execute_result"
    }
   ],
   "execution_count": 37
  },
  {
   "metadata": {
    "ExecuteTime": {
     "end_time": "2024-11-09T10:26:00.728745Z",
     "start_time": "2024-11-09T10:26:00.725989Z"
    }
   },
   "cell_type": "code",
   "source": "",
   "id": "cf895245fb6c64f",
   "outputs": [],
   "execution_count": null
  }
 ],
 "metadata": {
  "kernelspec": {
   "display_name": "Python 3",
   "language": "python",
   "name": "python3"
  },
  "language_info": {
   "codemirror_mode": {
    "name": "ipython",
    "version": 2
   },
   "file_extension": ".py",
   "mimetype": "text/x-python",
   "name": "python",
   "nbconvert_exporter": "python",
   "pygments_lexer": "ipython2",
   "version": "2.7.6"
  }
 },
 "nbformat": 4,
 "nbformat_minor": 5
}
