{
 "cells": [
  {
   "cell_type": "code",
   "id": "initial_id",
   "metadata": {
    "collapsed": true,
    "ExecuteTime": {
     "end_time": "2024-11-09T10:39:33.890082Z",
     "start_time": "2024-11-09T10:39:31.466530Z"
    }
   },
   "source": [
    "from random import random\n",
    "\n",
    "import torch\n",
    "import torch.nn as nn\n",
    "import pandas as pd\n",
    "import numpy as np\n",
    "import matplotlib.pyplot as plt\n",
    "print(torch.__version__)"
   ],
   "outputs": [
    {
     "name": "stdout",
     "output_type": "stream",
     "text": [
      "2.5.1+cpu\n"
     ]
    }
   ],
   "execution_count": 2
  },
  {
   "metadata": {},
   "cell_type": "markdown",
   "source": [
    "# Neural Networks\n",
    "NNs are layers of artificial neurons. Each neuron has its own activation function, weights and biases that are adjusted during training process."
   ],
   "id": "1f23dfb1ac931a23"
  },
  {
   "metadata": {
    "ExecuteTime": {
     "end_time": "2024-11-09T10:39:34.217053Z",
     "start_time": "2024-11-09T10:39:34.204632Z"
    }
   },
   "cell_type": "code",
   "source": [
    "network = nn.Sequential(\n",
    "    nn.Linear(12, 20),\n",
    "    nn.ReLU(),\n",
    "    \n",
    "    nn.Linear(20, 13),\n",
    "    nn.ReLU(),\n",
    "    \n",
    "    nn.Linear(13, 5),\n",
    "    nn.ReLU(),\n",
    "    \n",
    "    nn.Linear(5, 1),\n",
    "    nn.ReLU(),\n",
    ")"
   ],
   "id": "775d87b39253c313",
   "outputs": [],
   "execution_count": 4
  },
  {
   "metadata": {},
   "cell_type": "markdown",
   "source": [
    "## What's a forward pass?\n",
    "- Input data is **passed forward** or **propagated** through a network;\n",
    "- Computations performed at each layer;\n",
    "- Outputs of each layer passed to each subsequent layer;\n",
    "- **Output** of final layer: \"prediction\";\n",
    "- Used for both training and prediction;"
   ],
   "id": "1b987824d9ced76a"
  },
  {
   "metadata": {
    "ExecuteTime": {
     "end_time": "2024-11-09T10:46:57.717501Z",
     "start_time": "2024-11-09T10:46:57.709404Z"
    }
   },
   "cell_type": "code",
   "source": [
    "input_tensor = torch.tensor([[5,3,2,3,1,4,5,3,2,3,1,4],\n",
    "                             [5,3,2,3,1,4,8,2,3,0,1,7]], dtype=torch.float)"
   ],
   "id": "8f77926581b38846",
   "outputs": [],
   "execution_count": 12
  },
  {
   "metadata": {
    "ExecuteTime": {
     "end_time": "2024-11-09T10:46:59.393075Z",
     "start_time": "2024-11-09T10:46:59.379511Z"
    }
   },
   "cell_type": "code",
   "source": "network.forward(input_tensor)",
   "id": "8e0ec758666f79f7",
   "outputs": [
    {
     "data": {
      "text/plain": [
       "tensor([[-0.5797],\n",
       "        [-0.6800]], grad_fn=<AddmmBackward0>)"
      ]
     },
     "execution_count": 13,
     "metadata": {},
     "output_type": "execute_result"
    }
   ],
   "execution_count": 13
  },
  {
   "metadata": {},
   "cell_type": "markdown",
   "source": [
    "## Is there also a backward pass?\n",
    "- **Backward pass** or **backpropagation** is used to update weights and biases during training;\n",
    "- In the \"training loop\", we:\n",
    "    1. **Propagate** data forward;\n",
    "    2. **Compare** outputs to true values (ground-truth);\n",
    "    3. **Backpropagate** to update model weights and biases;\n",
    "    4. **Repeat** until weights and biases are tuned to produce useful outputs;"
   ],
   "id": "d5b7691bc5b283cc"
  },
  {
   "metadata": {},
   "cell_type": "markdown",
   "source": "## Binary classification: forward pass",
   "id": "a6b2ac770b3ee055"
  },
  {
   "metadata": {
    "ExecuteTime": {
     "end_time": "2024-11-09T10:54:20.219297Z",
     "start_time": "2024-11-09T10:54:20.206409Z"
    }
   },
   "cell_type": "code",
   "source": [
    "network = nn.Sequential(\n",
    "    nn.Linear(6, 4),\n",
    "    nn.Linear(4, 1),\n",
    "    nn.Sigmoid(),\n",
    ")"
   ],
   "id": "e348d574b70c1850",
   "outputs": [],
   "execution_count": 14
  },
  {
   "metadata": {
    "ExecuteTime": {
     "end_time": "2024-11-09T10:55:07.126137Z",
     "start_time": "2024-11-09T10:55:07.116131Z"
    }
   },
   "cell_type": "code",
   "source": [
    "input_data = torch.tensor([\n",
    "    [-1, -4.5, 42.5, -53.3, 6.03, 2.43],\n",
    "    [1, -4.5, 12.5, 53.3, 9.03, 1.43],\n",
    "    [1, 4.5, 42.5, +53.3, 6.03, 2.43],\n",
    "    [1, 4.5, -42.5, 53.3, 6.03, 7.43],    \n",
    "])"
   ],
   "id": "3d7fa2a1b47fc544",
   "outputs": [],
   "execution_count": 17
  },
  {
   "metadata": {
    "ExecuteTime": {
     "end_time": "2024-11-09T10:55:08.445112Z",
     "start_time": "2024-11-09T10:55:08.435830Z"
    }
   },
   "cell_type": "code",
   "source": "network.forward(input_data)",
   "id": "7f1ee68a9c89d9bd",
   "outputs": [
    {
     "data": {
      "text/plain": [
       "tensor([[0.1360],\n",
       "        [0.9935],\n",
       "        [0.9994],\n",
       "        [0.6975]], grad_fn=<SigmoidBackward0>)"
      ]
     },
     "execution_count": 18,
     "metadata": {},
     "output_type": "execute_result"
    }
   ],
   "execution_count": 18
  },
  {
   "metadata": {},
   "cell_type": "markdown",
   "source": "## Multi-class classification: forward pass",
   "id": "174627d1cbc3a9dc"
  },
  {
   "metadata": {
    "ExecuteTime": {
     "end_time": "2024-11-09T10:58:02.131710Z",
     "start_time": "2024-11-09T10:58:02.124996Z"
    }
   },
   "cell_type": "code",
   "source": [
    "n_classes = 5\n",
    "network = nn.Sequential(\n",
    "    nn.Linear(6, 4),\n",
    "    nn.Linear(4, n_classes),\n",
    "    nn.Softmax(dim=-1),\n",
    ")"
   ],
   "id": "5b8a1d004c6af82c",
   "outputs": [],
   "execution_count": 24
  },
  {
   "metadata": {
    "ExecuteTime": {
     "end_time": "2024-11-09T10:58:03.712609Z",
     "start_time": "2024-11-09T10:58:03.704037Z"
    }
   },
   "cell_type": "code",
   "source": "network.forward(input_data)",
   "id": "f22658688a664d76",
   "outputs": [
    {
     "data": {
      "text/plain": [
       "tensor([[1.0887e-06, 8.9358e-09, 9.8916e-01, 2.7295e-03, 8.1142e-03],\n",
       "        [1.1607e-06, 9.9882e-01, 1.8233e-11, 1.1746e-03, 1.5879e-07],\n",
       "        [2.0167e-08, 9.7988e-01, 2.0351e-13, 2.0123e-02, 3.3075e-08],\n",
       "        [3.2115e-01, 6.7882e-01, 7.6900e-07, 6.5111e-07, 2.6392e-05]],\n",
       "       grad_fn=<SoftmaxBackward0>)"
      ]
     },
     "execution_count": 25,
     "metadata": {},
     "output_type": "execute_result"
    }
   ],
   "execution_count": 25
  },
  {
   "metadata": {},
   "cell_type": "markdown",
   "source": "# Regression: forward pass",
   "id": "dba81a90747fbfc7"
  },
  {
   "metadata": {
    "ExecuteTime": {
     "end_time": "2024-11-09T10:58:47.365982Z",
     "start_time": "2024-11-09T10:58:47.361199Z"
    }
   },
   "cell_type": "code",
   "source": [
    "network = nn.Sequential(\n",
    "    nn.Linear(6, 4),\n",
    "    nn.Linear(4, 1)\n",
    ")"
   ],
   "id": "2cc6605616f70ec6",
   "outputs": [],
   "execution_count": 26
  },
  {
   "metadata": {
    "ExecuteTime": {
     "end_time": "2024-11-09T10:58:55.080003Z",
     "start_time": "2024-11-09T10:58:55.068739Z"
    }
   },
   "cell_type": "code",
   "source": "network.forward(input_data)",
   "id": "3da0b58856ea5e37",
   "outputs": [
    {
     "data": {
      "text/plain": [
       "tensor([[ 2.5220],\n",
       "        [ 1.3042],\n",
       "        [ 3.2861],\n",
       "        [-3.6118]], grad_fn=<AddmmBackward0>)"
      ]
     },
     "execution_count": 27,
     "metadata": {},
     "output_type": "execute_result"
    }
   ],
   "execution_count": 27
  }
 ],
 "metadata": {
  "kernelspec": {
   "display_name": "Python 3",
   "language": "python",
   "name": "python3"
  },
  "language_info": {
   "codemirror_mode": {
    "name": "ipython",
    "version": 2
   },
   "file_extension": ".py",
   "mimetype": "text/x-python",
   "name": "python",
   "nbconvert_exporter": "python",
   "pygments_lexer": "ipython2",
   "version": "2.7.6"
  }
 },
 "nbformat": 4,
 "nbformat_minor": 5
}
